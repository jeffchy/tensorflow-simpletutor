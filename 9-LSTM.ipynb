{
 "cells": [
  {
   "cell_type": "code",
   "execution_count": 26,
   "metadata": {},
   "outputs": [
    {
     "name": "stdout",
     "output_type": "stream",
     "text": [
      "Extracting MNIST/train-images-idx3-ubyte.gz\n",
      "Extracting MNIST/train-labels-idx1-ubyte.gz\n",
      "Extracting MNIST/t10k-images-idx3-ubyte.gz\n",
      "Extracting MNIST/t10k-labels-idx1-ubyte.gz\n"
     ]
    }
   ],
   "source": [
    "import tensorflow as tf\n",
    "from tensorflow.examples.tutorials.mnist import input_data\n",
    "mnist = input_data.read_data_sets(\"MNIST\", one_hot=True)\n",
    "tf.reset_default_graph()"
   ]
  },
  {
   "cell_type": "code",
   "execution_count": 27,
   "metadata": {},
   "outputs": [
    {
     "name": "stdout",
     "output_type": "stream",
     "text": [
      "Iter 0 , Testing accuracy= 0.7509\n",
      "Iter 1 , Testing accuracy= 0.8086\n",
      "Iter 2 , Testing accuracy= 0.8336\n",
      "Iter 3 , Testing accuracy= 0.8416\n",
      "Iter 4 , Testing accuracy= 0.9223\n",
      "Iter 5 , Testing accuracy= 0.9348\n"
     ]
    }
   ],
   "source": [
    "n_inputs = 28 # line by line\n",
    "max_time = 28 # 28 line (output)\n",
    "lstm_size = 100 # block\n",
    "n_classes = 10 \n",
    "batch_size = 50\n",
    "n_batch = mnist.train.num_examples // batch_size\n",
    "\n",
    "x = tf.placeholder(tf.float32, [None, 784])\n",
    "y = tf.placeholder(tf.float32, [None, 10])\n",
    "\n",
    "weights = tf.Variable(tf.truncated_normal([lstm_size, n_classes], stddev=0.1))\n",
    "biases = tf.Variable(tf.constant(0.1, shape=[n_classes]))\n",
    "\n",
    "def RNN(X, weights, biases):\n",
    "#     with tf.variable_scope(\"RNN\"):\n",
    "        # [batch_size, max_time, n_inputs]\n",
    "    inputs = tf.reshape(X, [-1, max_time, n_inputs])\n",
    "        \n",
    "    lstm_cell = tf.contrib.rnn.BasicLSTMCell(lstm_size)\n",
    "    \n",
    "#     initial_state = lstm_cell.zero_state(batch_size, dtype=tf.float32)\n",
    "        # final_state[0] cell_state\n",
    "        # final_state[1] hidden_state\n",
    "    outputs, final_state = tf.nn.dynamic_rnn(lstm_cell, inputs, dtype=tf.float32)\n",
    "        \n",
    "    results = tf.nn.softmax(tf.matmul(final_state[1],weights)+biases)\n",
    "        \n",
    "    return results\n",
    "        \n",
    "prediction = RNN(x, weights, biases)\n",
    "\n",
    "correct_prediction = tf.equal(tf.argmax(prediction,1),tf.arg_max(y,1))\n",
    "\n",
    "cross_entropy = tf.reduce_mean(tf.nn.softmax_cross_entropy_with_logits(labels=y, logits=prediction))\n",
    "\n",
    "update = tf.train.AdamOptimizer(1e-4).minimize(cross_entropy)\n",
    "\n",
    "accuracy = tf.reduce_mean(tf.cast(correct_prediction, tf.float32))\n",
    "\n",
    "init = tf.global_variables_initializer()\n",
    "\n",
    "with tf.Session() as sess:\n",
    "    sess.run(init)\n",
    "    writer = tf.summary.FileWriter(\"logs\", graph=sess.graph)\n",
    "    for epoch in range(6):\n",
    "        for batch in range(n_batch):\n",
    "            batch_xs, batch_ys = mnist.train.next_batch(batch_size)\n",
    "            sess.run(update, feed_dict={x:batch_xs, y:batch_ys})\n",
    "            \n",
    "        acc = sess.run(accuracy, feed_dict={x:mnist.test.images, y:mnist.test.labels})\n",
    "        print(\"Iter \"+str(epoch)+\" , Testing accuracy= \"+str(acc))"
   ]
  },
  {
   "cell_type": "code",
   "execution_count": null,
   "metadata": {},
   "outputs": [],
   "source": []
  }
 ],
 "metadata": {
  "kernelspec": {
   "display_name": "Python (tf)",
   "language": "python",
   "name": "tf"
  },
  "language_info": {
   "codemirror_mode": {
    "name": "ipython",
    "version": 3
   },
   "file_extension": ".py",
   "mimetype": "text/x-python",
   "name": "python",
   "nbconvert_exporter": "python",
   "pygments_lexer": "ipython3",
   "version": "3.6.6"
  }
 },
 "nbformat": 4,
 "nbformat_minor": 2
}

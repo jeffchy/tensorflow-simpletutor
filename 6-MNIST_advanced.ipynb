{
 "cells": [
  {
   "cell_type": "code",
   "execution_count": 17,
   "metadata": {},
   "outputs": [],
   "source": [
    "import tensorflow as tf\n",
    "from tensorflow.examples.tutorials.mnist import input_data\n",
    "from tqdm import tqdm"
   ]
  },
  {
   "cell_type": "code",
   "execution_count": 22,
   "metadata": {},
   "outputs": [
    {
     "name": "stdout",
     "output_type": "stream",
     "text": [
      "Extracting MNIST/train-images-idx3-ubyte.gz\n",
      "Extracting MNIST/train-labels-idx1-ubyte.gz\n",
      "WARNING:tensorflow:From /Users/jeffchiang/anaconda3/envs/tf/lib/python3.6/site-packages/tensorflow/contrib/learn/python/learn/datasets/mnist.py:110: dense_to_one_hot (from tensorflow.contrib.learn.python.learn.datasets.mnist) is deprecated and will be removed in a future version.\n",
      "Instructions for updating:\n",
      "Please use tf.one_hot on tensors.\n",
      "Extracting MNIST/t10k-images-idx3-ubyte.gz\n",
      "Extracting MNIST/t10k-labels-idx1-ubyte.gz\n"
     ]
    }
   ],
   "source": [
    "# load dataset\n",
    "mnist = input_data.read_data_sets(\"MNIST\", one_hot=True)"
   ]
  },
  {
   "cell_type": "code",
   "execution_count": null,
   "metadata": {},
   "outputs": [
    {
     "name": "stdout",
     "output_type": "stream",
     "text": [
      "Iter0 Testing Accuracy 0.7214\n",
      "Iter1 Testing Accuracy 0.7732\n",
      "Iter2 Testing Accuracy 0.7925\n",
      "Iter3 Testing Accuracy 0.7991\n",
      "Iter4 Testing Accuracy 0.8163\n",
      "Iter5 Testing Accuracy 0.8169\n",
      "Iter6 Testing Accuracy 0.8224\n",
      "Iter7 Testing Accuracy 0.826\n",
      "Iter8 Testing Accuracy 0.8261\n",
      "Iter9 Testing Accuracy 0.8223\n",
      "Iter10 Testing Accuracy 0.8276\n",
      "Iter11 Testing Accuracy 0.8288\n",
      "Iter12 Testing Accuracy 0.8303\n",
      "Iter13 Testing Accuracy 0.8292\n",
      "Iter14 Testing Accuracy 0.8311\n",
      "Iter15 Testing Accuracy 0.8346\n",
      "Iter16 Testing Accuracy 0.8315\n",
      "Iter17 Testing Accuracy 0.8304\n",
      "Iter18 Testing Accuracy 0.842\n",
      "Iter19 Testing Accuracy 0.8316\n",
      "Iter20 Testing Accuracy 0.8488\n",
      "Iter21 Testing Accuracy 0.8375\n",
      "Iter22 Testing Accuracy 0.8368\n",
      "Iter23 Testing Accuracy 0.8339\n",
      "Iter24 Testing Accuracy 0.8319\n",
      "Iter25 Testing Accuracy 0.8421\n",
      "Iter26 Testing Accuracy 0.8371\n",
      "Iter27 Testing Accuracy 0.8395\n",
      "Iter28 Testing Accuracy 0.8365\n",
      "Iter29 Testing Accuracy 0.8437\n",
      "Iter30 Testing Accuracy 0.8412\n",
      "Iter31 Testing Accuracy 0.8448\n",
      "Iter32 Testing Accuracy 0.8461\n",
      "Iter33 Testing Accuracy 0.8458\n",
      "Iter34 Testing Accuracy 0.8406\n",
      "Iter35 Testing Accuracy 0.8422\n",
      "Iter36 Testing Accuracy 0.8383\n",
      "Iter37 Testing Accuracy 0.8307\n",
      "Iter38 Testing Accuracy 0.8467\n",
      "Iter39 Testing Accuracy 0.8378\n",
      "Iter40 Testing Accuracy 0.8472\n",
      "Iter41 Testing Accuracy 0.8465\n",
      "Iter42 Testing Accuracy 0.8434\n"
     ]
    }
   ],
   "source": [
    "batch_size = 100\n",
    "n_batch = mnist.train.num_examples // batch_size\n",
    "\n",
    "x = tf.placeholder(tf.float32, [None, 784])\n",
    "y = tf.placeholder(tf.float32, [None, 10])\n",
    "keep_prob = tf.placeholder(tf.float32)\n",
    "\n",
    "W_L1 = tf.Variable(tf.truncated_normal([784,300],stddev=0.1)) # initialization is important here\n",
    "b_L1 = tf.Variable(tf.truncated_normal([300],stddev=0.1))\n",
    "o_L1 = tf.nn.relu(tf.matmul(x,W_L1)+b_L1)\n",
    "d_L1 = tf.nn.dropout(o_L1, keep_prob)\n",
    "\n",
    "W_L2 = tf.Variable(tf.truncated_normal([300,50],stddev=0.1))\n",
    "b_L2 = tf.Variable(tf.truncated_normal([50],stddev=0.1))\n",
    "o_L2 = tf.nn.relu(tf.matmul(d_L1,W_L2)+b_L2)\n",
    "d_L2 = tf.nn.dropout(o_L2, keep_prob)\n",
    "\n",
    "W_L3 = tf.Variable(tf.truncated_normal([50,10],stddev=0.1))\n",
    "b_L3 = tf.Variable(tf.truncated_normal([10],stddev=0.1))\n",
    "o_L3 = tf.nn.relu(tf.matmul(d_L2,W_L3)+b_L3)\n",
    "# d_L3 = tf.nn.dropout(o_L3, keep_prob)\n",
    "prediction = tf.nn.softmax(o_L3)\n",
    "\n",
    "loss = tf.nn.softmax_cross_entropy_with_logits(labels=y,logits=prediction)\n",
    "update = tf.train.AdamOptimizer(learning_rate=0.001).minimize(loss)\n",
    "\n",
    "init = tf.global_variables_initializer()\n",
    "\n",
    "correct_prediction = tf.equal(tf.arg_max(y,1), tf.arg_max(prediction,1))\n",
    "\n",
    "accuracy = tf.reduce_mean(tf.cast(correct_prediction, tf.float32))\n",
    "\n",
    "# softmax and sorftmax_cross_entropy_with_logits is a good pair\n",
    "with tf.Session() as sess:\n",
    "    sess.run(init)\n",
    "    # add writer\n",
    "    writer = tf.summary.FileWriter(\"logs:\", sess.graph)\n",
    "    for epoch in range(500):\n",
    "        for batch in range(n_batch):\n",
    "            batch_xs, batch_ys = mnist.train.next_batch(batch_size)\n",
    "            sess.run(update, feed_dict={x:batch_xs, y:batch_ys, keep_prob:0.6})\n",
    "#             print(sess.run(loss, feed_dict={x:batch_xs, y:batch_ys}))\n",
    "    \n",
    "        acc = sess.run(accuracy, feed_dict={x:mnist.test.images,y:mnist.test.labels, keep_prob:0.3})\n",
    "        print(\"Iter\"+ str(epoch)+\" Testing Accuracy \"+ str(acc))"
   ]
  },
  {
   "cell_type": "code",
   "execution_count": null,
   "metadata": {},
   "outputs": [],
   "source": []
  },
  {
   "cell_type": "code",
   "execution_count": null,
   "metadata": {},
   "outputs": [],
   "source": []
  },
  {
   "cell_type": "code",
   "execution_count": null,
   "metadata": {},
   "outputs": [],
   "source": []
  },
  {
   "cell_type": "code",
   "execution_count": null,
   "metadata": {},
   "outputs": [],
   "source": []
  }
 ],
 "metadata": {
  "kernelspec": {
   "display_name": "Python (tf)",
   "language": "python",
   "name": "tf"
  },
  "language_info": {
   "codemirror_mode": {
    "name": "ipython",
    "version": 3
   },
   "file_extension": ".py",
   "mimetype": "text/x-python",
   "name": "python",
   "nbconvert_exporter": "python",
   "pygments_lexer": "ipython3",
   "version": "3.6.6"
  }
 },
 "nbformat": 4,
 "nbformat_minor": 2
}
